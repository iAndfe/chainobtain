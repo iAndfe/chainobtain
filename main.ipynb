{
 "cells": [
  {
   "cell_type": "code",
   "execution_count": 6,
   "metadata": {},
   "outputs": [],
   "source": [
    "import pandas as pd\n",
    "from rtree import index\n",
    "from shapely.geometry import LineString, Point\n",
    "import geopandas as gpd\n",
    "import ezdxf"
   ]
  },
  {
   "cell_type": "code",
   "execution_count": 7,
   "metadata": {},
   "outputs": [],
   "source": [
    "# Reads points from a .csv file\n",
    "def read_points_csv(file_path):\n",
    "    points_df = pd.read_csv(file_path)\n",
    "    \n",
    "    # Convert each row in the DataFrame to a Point object\n",
    "    points = [Point(row['x'], row['y']) for _, row in points_df.iterrows()]\n",
    "    return points_df, points\n",
    "\n",
    "# Reads a polyline from a .csv file\n",
    "def csv_to_polyline(file_path):\n",
    "    df = pd.read_csv(file_path)\n",
    "    polyline = [Point(row['x'], row['y']) for _, row in df.iterrows()]\n",
    "    \n",
    "    return polyline\n",
    "\n",
    "# Reads a polyline from a shapefile\n",
    "def read_shapefile(file_path):\n",
    "    gdf = gpd.read_file(file_path)\n",
    "    polyline = gdf.geometry.iloc[0]\n",
    "    return polyline\n",
    "\n",
    "# Reads a polyline from a cad file (.dxf or .dwg)\n",
    "def read_cad_file(file_path):\n",
    "    doc = ezdxf.readfile(file_path)\n",
    "    msp = doc.modelspace()\n",
    "\n",
    "    polyline_entities = [e for e in msp if e.dxftype() == 'LWPOLYLINE']\n",
    "    \n",
    "    if not polyline_entities:\n",
    "        raise ValueError(\"No LWPOLYLINE found in the CAD file.\")\n",
    "    \n",
    "    polyline_coords = polyline_entities[0].get_points()\n",
    "    polyline = [Point(x, y) for x, y in polyline_coords]\n",
    "    \n",
    "    return polyline"
   ]
  },
  {
   "cell_type": "code",
   "execution_count": 8,
   "metadata": {},
   "outputs": [],
   "source": [
    "# Build an R-tree spatial index for efficient nearest segment search.\n",
    "def build_rtree(polyline):\n",
    "    idx = index.Index()\n",
    "    # Iterate through each segment in the polyline.\n",
    "    for i, segment in enumerate(zip(polyline[:-1], polyline[1:])):\n",
    "        # Calculate the bounding box of the segment.\n",
    "        minx, miny = min(segment[0].x, segment[1].x), min(segment[0].y, segment[1].y)\n",
    "        maxx, maxy = max(segment[0].x, segment[1].x), max(segment[0].y, segment[1].y)\n",
    "        \n",
    "        # Insert the bounding box into the R-tree index.\n",
    "        idx.insert(i, (minx, miny, maxx, maxy))\n",
    "        \n",
    "    return idx\n",
    "\n",
    "# Find the nearest segment of the polyline to the given point using the R-tree index.\n",
    "def nearest_segment_rtree(point, polyline, idx):\n",
    "    # Query the R-tree index for the nearest segments to the point.\n",
    "    nearest_segments = list(idx.nearest((point.x, point.y, point.x, point.y)))\n",
    "    min_distance = float(\"inf\")\n",
    "    closest_segment = None\n",
    "\n",
    "    # Iterate through the nearest_segments to find the one with the minimum distance to the point.\n",
    "    for segment_index in nearest_segments:\n",
    "        segment = LineString([polyline[segment_index], polyline[segment_index + 1]])\n",
    "        distance = segment.distance(point)\n",
    "        if distance < min_distance:\n",
    "            min_distance = distance\n",
    "            closest_segment = segment\n",
    "\n",
    "    return closest_segment, min_distance\n",
    "\n",
    "# Calculate the chainage (distance along the polyline) and offset (distance from the polyline) of the point.\n",
    "def chainage_and_offset(point, polyline, idx):\n",
    "    # Find the nearest segment to the point and its distance (offset).\n",
    "    closest_segment, offset = nearest_segment_rtree(point, polyline, idx)\n",
    "    \n",
    "    # Calculate the chainage by projecting the point onto the closest segment.\n",
    "    chainage = closest_segment.project(point)\n",
    "    \n",
    "    return chainage, offset"
   ]
  },
  {
   "cell_type": "code",
   "execution_count": 9,
   "metadata": {},
   "outputs": [],
   "source": [
    "def chain_obtain(polyline, input_file):\n",
    "    # Read points from a CSV file\n",
    "    points_df, points = read_points_csv(input_file)  # Unpack the returned tuple\n",
    "\n",
    "    # Build the R-tree index for the polyline\n",
    "    rtree_idx = build_rtree(polyline)\n",
    "\n",
    "    # Initialize lists to store chainage and offset values\n",
    "    chainage_list = []\n",
    "    offset_list = []\n",
    "\n",
    "    # Calculate chainage and offset for each point using the R-tree index\n",
    "    for point in points:\n",
    "        chainage, offset = chainage_and_offset(point, polyline, rtree_idx)\n",
    "        chainage_list.append(chainage)\n",
    "        offset_list.append(offset)\n",
    "\n",
    "    # Add chainage and offset values to the points DataFrame\n",
    "    points_df['chainage'] = chainage_list\n",
    "    points_df['offset'] = offset_list\n",
    "\n",
    "    # Export the modified DataFrame with chainage and offset values to a CSV file\n",
    "    return points_df"
   ]
  },
  {
   "cell_type": "code",
   "execution_count": 12,
   "metadata": {},
   "outputs": [
    {
     "ename": "AttributeError",
     "evalue": "'tuple' object has no attribute 'x'",
     "output_type": "error",
     "traceback": [
      "\u001b[1;31m---------------------------------------------------------------------------\u001b[0m",
      "\u001b[1;31mAttributeError\u001b[0m                            Traceback (most recent call last)",
      "Cell \u001b[1;32mIn[12], line 4\u001b[0m\n\u001b[0;32m      1\u001b[0m \u001b[39m# Define the polyline as a list of Point objects\u001b[39;00m\n\u001b[0;32m      2\u001b[0m polyline \u001b[39m=\u001b[39m csv_to_polyline(\u001b[39m'\u001b[39m\u001b[39mtest_poly.csv\u001b[39m\u001b[39m'\u001b[39m)\n\u001b[1;32m----> 4\u001b[0m points_df \u001b[39m=\u001b[39m chain_obtain(polyline, \u001b[39m'\u001b[39;49m\u001b[39mtest_points.csv\u001b[39;49m\u001b[39m'\u001b[39;49m)\n",
      "Cell \u001b[1;32mIn[9], line 6\u001b[0m, in \u001b[0;36mchain_obtain\u001b[1;34m(polyline, input_file)\u001b[0m\n\u001b[0;32m      3\u001b[0m points_df, points \u001b[39m=\u001b[39m read_points_csv(input_file)  \u001b[39m# Unpack the returned tuple\u001b[39;00m\n\u001b[0;32m      5\u001b[0m \u001b[39m# Build the R-tree index for the polyline\u001b[39;00m\n\u001b[1;32m----> 6\u001b[0m rtree_idx \u001b[39m=\u001b[39m build_rtree(polyline)\n\u001b[0;32m      8\u001b[0m \u001b[39m# Initialize lists to store chainage and offset values\u001b[39;00m\n\u001b[0;32m      9\u001b[0m chainage_list \u001b[39m=\u001b[39m []\n",
      "Cell \u001b[1;32mIn[8], line 7\u001b[0m, in \u001b[0;36mbuild_rtree\u001b[1;34m(polyline)\u001b[0m\n\u001b[0;32m      4\u001b[0m \u001b[39m# Iterate through each segment in the polyline.\u001b[39;00m\n\u001b[0;32m      5\u001b[0m \u001b[39mfor\u001b[39;00m i, segment \u001b[39min\u001b[39;00m \u001b[39menumerate\u001b[39m(\u001b[39mzip\u001b[39m(polyline[:\u001b[39m-\u001b[39m\u001b[39m1\u001b[39m], polyline[\u001b[39m1\u001b[39m:])):\n\u001b[0;32m      6\u001b[0m     \u001b[39m# Calculate the bounding box of the segment.\u001b[39;00m\n\u001b[1;32m----> 7\u001b[0m     minx, miny \u001b[39m=\u001b[39m \u001b[39mmin\u001b[39m(segment[\u001b[39m0\u001b[39;49m]\u001b[39m.\u001b[39;49mx, segment[\u001b[39m1\u001b[39m]\u001b[39m.\u001b[39mx), \u001b[39mmin\u001b[39m(segment[\u001b[39m0\u001b[39m]\u001b[39m.\u001b[39my, segment[\u001b[39m1\u001b[39m]\u001b[39m.\u001b[39my)\n\u001b[0;32m      8\u001b[0m     maxx, maxy \u001b[39m=\u001b[39m \u001b[39mmax\u001b[39m(segment[\u001b[39m0\u001b[39m]\u001b[39m.\u001b[39mx, segment[\u001b[39m1\u001b[39m]\u001b[39m.\u001b[39mx), \u001b[39mmax\u001b[39m(segment[\u001b[39m0\u001b[39m]\u001b[39m.\u001b[39my, segment[\u001b[39m1\u001b[39m]\u001b[39m.\u001b[39my)\n\u001b[0;32m     10\u001b[0m     \u001b[39m# Insert the bounding box into the R-tree index.\u001b[39;00m\n",
      "\u001b[1;31mAttributeError\u001b[0m: 'tuple' object has no attribute 'x'"
     ]
    }
   ],
   "source": [
    "# Define the polyline as a list of Point objects\n",
    "polyline = csv_to_polyline('test_poly.csv')\n",
    "\n",
    "points_df = chain_obtain(polyline, 'test_points.csv')"
   ]
  }
 ],
 "metadata": {
  "kernelspec": {
   "display_name": "env",
   "language": "python",
   "name": "python3"
  },
  "language_info": {
   "codemirror_mode": {
    "name": "ipython",
    "version": 3
   },
   "file_extension": ".py",
   "mimetype": "text/x-python",
   "name": "python",
   "nbconvert_exporter": "python",
   "pygments_lexer": "ipython3",
   "version": "3.11.3"
  },
  "orig_nbformat": 4
 },
 "nbformat": 4,
 "nbformat_minor": 2
}
